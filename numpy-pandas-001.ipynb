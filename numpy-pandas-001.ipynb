{
 "cells": [
  {
   "cell_type": "code",
   "execution_count": null,
   "id": "9204f53a",
   "metadata": {},
   "outputs": [],
   "source": [
    "!pip install numpy\n",
    "!pip install pandas"
   ]
  },
  {
   "cell_type": "code",
   "execution_count": null,
   "id": "2b5dd237",
   "metadata": {},
   "outputs": [],
   "source": [
    "import numpy as np\n",
    "import pandas as pd"
   ]
  },
  {
   "cell_type": "code",
   "execution_count": 3,
   "id": "a2308e2c",
   "metadata": {},
   "outputs": [
    {
     "name": "stdout",
     "output_type": "stream",
     "text": [
      "[1 2 3 4]\n"
     ]
    }
   ],
   "source": [
    "# The code below initializes a Python list named list1:\n",
    "list1 = [1,2, 3, 4]\n",
    "# To convert this to a one-dimensional ndarray with one row and four columns, we can use the np.array() function:\n",
    "array1 = np.array(list1)\n",
    "print(array1)"
   ]
  },
  {
   "cell_type": "code",
   "execution_count": 7,
   "id": "04c4fe28",
   "metadata": {},
   "outputs": [
    {
     "name": "stdout",
     "output_type": "stream",
     "text": [
      "[[1 2 3]\n",
      " [4 5 6]]\n"
     ]
    }
   ],
   "source": [
    "# To get a two-dimensional ndarray from a list, we must start with a Python list of lists:\n",
    "list2 = [[1,2,3], [4,5,6]]\n",
    "array2 = np.array(list2)\n",
    "print(array2)"
   ]
  },
  {
   "cell_type": "code",
   "execution_count": null,
   "id": "3cf3b6ea",
   "metadata": {},
   "outputs": [],
   "source": [
    "# In the above output, you may notice that \n",
    "# the NumPy array print-out is displayed in a way \n",
    "# that clearly demonstrates its multi-dimensional structure: \n",
    "# two rows and three columns."
   ]
  },
  {
   "cell_type": "code",
   "execution_count": null,
   "id": "72e1966d",
   "metadata": {},
   "outputs": [],
   "source": [
    "# Mathematical operations can be performed on all values in a ndarray at one time rather than having to loop through values, \n",
    "# as is necessary with a Python list. This is very helpful in many scenarios. Say you own a toy store \n",
    "# and decide to decrease the price of all toys by €2 for a weekend sale. With the toy prices stored in an ndarray, \n",
    "# you can easily facilitate this operation."
   ]
  },
  {
   "cell_type": "code",
   "execution_count": 8,
   "id": "4197c3d4",
   "metadata": {},
   "outputs": [
    {
     "name": "stdout",
     "output_type": "stream",
     "text": [
      "[3 5 6 7]\n"
     ]
    }
   ],
   "source": [
    "toyPrices = np.array([5,7,8,9])\n",
    "flat_rate = toyPrices - 2\n",
    "print(flat_rate)"
   ]
  },
  {
   "cell_type": "code",
   "execution_count": null,
   "id": "f5fa3745",
   "metadata": {},
   "outputs": [],
   "source": [
    "# If, however, you had stored your toy prices in a Python list, you would have to manually loop through the entire list \n",
    "# to decrease each toy price."
   ]
  },
  {
   "cell_type": "code",
   "execution_count": 10,
   "id": "257d5f42",
   "metadata": {},
   "outputs": [
    {
     "name": "stdout",
     "output_type": "stream",
     "text": [
      "[3, 5, 6, 7]\n"
     ]
    }
   ],
   "source": [
    "toyPrices = [5,7,8,9]\n",
    "for i in range(len(toyPrices)):\n",
    "    toyPrices[i] -= 2\n",
    "print(toyPrices)"
   ]
  },
  {
   "cell_type": "code",
   "execution_count": null,
   "id": "f10aef62",
   "metadata": {},
   "outputs": [],
   "source": [
    "# Pandas Series and Dataframes\n",
    "# Just as the ndarray is the foundation of the NumPy library, the Series is the core object of the pandas library. \n",
    "# A pandas Series is very similar to a one-dimensional NumPy array, but it has additional functionality \n",
    "# that allows values in the Series to be indexed using labels. A NumPy array does not have the flexibility to do this. \n",
    "# This labeling is useful when you are storing pieces of data that have other data associated with them. \n",
    "# Say you want to store the ages of students in an online course to eventually figure out the average student age. \n",
    "# If stored in a NumPy array, you could only access these ages with the internal ndarray indices 0,1,2.... With a Series object, \n",
    "# the indices of values are set to 0,1,2... by default, but you can customize the indices to be other values \n",
    "# such as student names so an age can be accessed using a name. Customized indices of a Series are established \n",
    "# by sending values into the Series constructor, as you will see below.\n",
    "\n",
    "# A Series holds items of any one data type and can be created by sending in a scalar value, Python list, dictionary, or ndarray \n",
    "# as a parameter to the pandas Series constructor. If a dictionary is sent in, the keys may be used as the indices."
   ]
  },
  {
   "cell_type": "code",
   "execution_count": 11,
   "id": "5470471f",
   "metadata": {},
   "outputs": [
    {
     "name": "stdout",
     "output_type": "stream",
     "text": [
      "0    13\n",
      "1    25\n",
      "2    19\n",
      "dtype: int32\n"
     ]
    }
   ],
   "source": [
    "# # Create a Series using a NumPy array of ages with the default numerical indices\n",
    "ages = np.array([13,25,19])\n",
    "series1 = pd.Series(ages)\n",
    "print(series1)"
   ]
  },
  {
   "cell_type": "code",
   "execution_count": 12,
   "id": "04e36e4d",
   "metadata": {},
   "outputs": [
    {
     "name": "stdout",
     "output_type": "stream",
     "text": [
      "Amit      13\n",
      "Khokon    25\n",
      "Sajib     19\n",
      "dtype: int32\n"
     ]
    }
   ],
   "source": [
    "# # Create a Series using a NumPy array of ages but customize the indices to be the names that correspond to each age\n",
    "ages = np.array([13,25,19])\n",
    "series1 = pd.Series(ages, index=['Amit', 'Khokon', 'Sajib'])\n",
    "print(series1)"
   ]
  },
  {
   "cell_type": "code",
   "execution_count": null,
   "id": "239c43c8",
   "metadata": {},
   "outputs": [],
   "source": [
    "# Another important type of object in the pandas library is the DataFrame. This object is similar in form to a matrix \n",
    "# as it consists of rows and columns. Both rows and columns can be indexed with integers or String names. \n",
    "# One DataFrame can contain many different types of data types, but within a column, everything has to be the same data type. \n",
    "# A column of a DataFrame is essentially a Series. All columns must have the same number of elements (rows).\n",
    "\n",
    "# There are different ways to fill a DataFrame such as with a CSV file, a SQL query, a Python list, or a dictionary. \n",
    "# Here we have created a DataFrame using a Python list of lists. \n",
    "# Each nested list represents the data in one row of the DataFrame. \n",
    "# We use the keyword columns to pass in the list of our custom column names."
   ]
  },
  {
   "cell_type": "code",
   "execution_count": 14,
   "id": "b288fa3d",
   "metadata": {},
   "outputs": [
    {
     "name": "stdout",
     "output_type": "stream",
     "text": [
      "     Name    Address  Age\n",
      "0  Anowar      Pipla   42\n",
      "1   Ripon  Khubjipur   42\n",
      "2   Imrul  Khunjipur   42\n"
     ]
    }
   ],
   "source": [
    "df = pd.DataFrame([\n",
    "    ['Anowar','Pipla',42],\n",
    "    ['Ripon','Khubjipur',42],\n",
    "    ['Imrul','Khunjipur',42]\n",
    "],\n",
    "columns=['Name','Address','Age'])\n",
    "print(df)"
   ]
  },
  {
   "cell_type": "code",
   "execution_count": 16,
   "id": "394f4086",
   "metadata": {},
   "outputs": [
    {
     "data": {
      "text/html": [
       "<div>\n",
       "<style scoped>\n",
       "    .dataframe tbody tr th:only-of-type {\n",
       "        vertical-align: middle;\n",
       "    }\n",
       "\n",
       "    .dataframe tbody tr th {\n",
       "        vertical-align: top;\n",
       "    }\n",
       "\n",
       "    .dataframe thead th {\n",
       "        text-align: right;\n",
       "    }\n",
       "</style>\n",
       "<table border=\"1\" class=\"dataframe\">\n",
       "  <thead>\n",
       "    <tr style=\"text-align: right;\">\n",
       "      <th></th>\n",
       "      <th>Address</th>\n",
       "      <th>Age</th>\n",
       "    </tr>\n",
       "    <tr>\n",
       "      <th>Name</th>\n",
       "      <th></th>\n",
       "      <th></th>\n",
       "    </tr>\n",
       "  </thead>\n",
       "  <tbody>\n",
       "    <tr>\n",
       "      <th>Anowar</th>\n",
       "      <td>Pipla</td>\n",
       "      <td>42</td>\n",
       "    </tr>\n",
       "    <tr>\n",
       "      <th>Ripon</th>\n",
       "      <td>Khubjipur</td>\n",
       "      <td>42</td>\n",
       "    </tr>\n",
       "    <tr>\n",
       "      <th>Imrul</th>\n",
       "      <td>Khunjipur</td>\n",
       "      <td>42</td>\n",
       "    </tr>\n",
       "  </tbody>\n",
       "</table>\n",
       "</div>"
      ],
      "text/plain": [
       "          Address  Age\n",
       "Name                  \n",
       "Anowar      Pipla   42\n",
       "Ripon   Khubjipur   42\n",
       "Imrul   Khunjipur   42"
      ]
     },
     "execution_count": 16,
     "metadata": {},
     "output_type": "execute_result"
    }
   ],
   "source": [
    "df.set_index('Name')"
   ]
  },
  {
   "cell_type": "code",
   "execution_count": null,
   "id": "81a57887",
   "metadata": {},
   "outputs": [],
   "source": []
  }
 ],
 "metadata": {
  "kernelspec": {
   "display_name": "Python 3 (ipykernel)",
   "language": "python",
   "name": "python3"
  },
  "language_info": {
   "codemirror_mode": {
    "name": "ipython",
    "version": 3
   },
   "file_extension": ".py",
   "mimetype": "text/x-python",
   "name": "python",
   "nbconvert_exporter": "python",
   "pygments_lexer": "ipython3",
   "version": "3.11.4"
  }
 },
 "nbformat": 4,
 "nbformat_minor": 5
}
